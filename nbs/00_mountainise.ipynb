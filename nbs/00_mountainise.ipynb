{
 "cells": [
  {
   "cell_type": "code",
   "execution_count": null,
   "metadata": {},
   "outputs": [],
   "source": [
    "#| default_exp mountainise"
   ]
  },
  {
   "cell_type": "markdown",
   "metadata": {},
   "source": [
    "# peaks\n",
    "\n",
    "> turn geospatial data into peaks"
   ]
  },
  {
   "cell_type": "code",
   "execution_count": null,
   "metadata": {},
   "outputs": [],
   "source": [
    "#| hide\n",
    "\n",
    "from nbdev.showdoc import *\n"
   ]
  },
  {
   "cell_type": "code",
   "execution_count": null,
   "metadata": {},
   "outputs": [],
   "source": [
    "#| export\n",
    "\n",
    "import pandas as pd\n",
    "import geopandas as gpd\n",
    "from shapely.geometry import Polygon, Point, LineString, GeometryCollection\n",
    "from shapely.ops import unary_union, transform\n",
    "import altair as alt\n",
    "import math"
   ]
  },
  {
   "cell_type": "code",
   "execution_count": null,
   "metadata": {},
   "outputs": [],
   "source": [
    "#| export\n",
    "\n",
    "def project_data_to_spatial_range(n, range1, range2):\n",
    "    \"\"\"recalculate a number n from range1 (dataset) to range2 (latitude)\n",
    "\n",
    "    Args:\n",
    "        n (int): data value\n",
    "        range1 (list): dataset range\n",
    "        range2 (list): projected range\n",
    "\n",
    "    Returns:\n",
    "        float: reprojected value\n",
    "    \"\"\"\n",
    "    delta1 = range1[1] - range1[0] # e.g. max-min 1 bedroom homes in dataset\n",
    "    delta2 = range2[1] - range2[0] # e.g. max-min points of latitude\n",
    "    return (delta2 * (n - range1[0]) / delta1) + range2[0]\n"
   ]
  },
  {
   "cell_type": "code",
   "execution_count": null,
   "metadata": {},
   "outputs": [],
   "source": [
    "#| export\n",
    "\n",
    "def make_mountain(point, val, range1, range2):\n",
    "    \"\"\"turn a spatial point into a data mountain\n",
    "\n",
    "    Args:\n",
    "        point (shapely.Point): e.g. a point on a map\n",
    "        val (int): e.g. a value to show at that point\n",
    "        range1 (list): min, max range of input val\n",
    "        range2 (list): min, max range of output data (latitude as mountain height)\n",
    "\n",
    "    Returns:\n",
    "        shapely.LineString: data mountain sized by input val\n",
    "    \"\"\"\n",
    "\n",
    "    # convert a value within a range to a latitude (proxy for mountain height)\n",
    "    height = project_data_to_spatial_range(val, range1, range2)\n",
    "\n",
    "    # create a data mountain\n",
    "    start = Point(point.x - 0.001, point.y)\n",
    "    mid = Point(point.x, point.y + height)\n",
    "    end = Point(point.x + 0.001, point.y)\n",
    "    line = LineString([start, mid, end])\n",
    "\n",
    "    return line\n"
   ]
  },
  {
   "cell_type": "code",
   "execution_count": null,
   "metadata": {},
   "outputs": [],
   "source": [
    "#| export\n",
    "\n",
    "def points_to_peaks(gdf, column, range):\n",
    "    \"\"\"turn point geometry into peak, sized by column and projected to range\n",
    "\n",
    "    Args:\n",
    "        gdf (geodataframe): contains points, ids, and a data column<br>\n",
    "        column (string): name of data column<br>\n",
    "        range (array:int): range to project data values into\n",
    "\n",
    "    Returns:\n",
    "        geodataframe: geospatial dataset of peaks\n",
    "    \"\"\"\n",
    "    gdf[\"y\"] = gdf.geometry.y\n",
    "    gdf = gdf.sort_values(by=(\"y\"), ascending=False)\n",
    "\n",
    "    gdf[\"geometry\"] = gdf.apply(\n",
    "        lambda row: make_peak(\n",
    "            row.geometry, row[column], [gdf[column].min(), gdf[column].max()], range\n",
    "        ),\n",
    "        axis=1,\n",
    "    )\n",
    "    return gdf\n"
   ]
  },
  {
   "cell_type": "code",
   "execution_count": null,
   "metadata": {},
   "outputs": [],
   "source": [
    "#| export\n",
    "\n",
    "def plot(gdf, fill, stroke):\n",
    "    \"\"\"create an altair map vis from a geodataframe\n",
    "\n",
    "    Args:\n",
    "        gdf (GeoDataframe): geospatial dataframe<br>\n",
    "        fill (string): color string, e.g. black, #111<br>\n",
    "        stroke (string): color string, e.g. black, #111\n",
    "\n",
    "    Returns:\n",
    "        altair.Chart: map vis\n",
    "    \"\"\"\n",
    "    chart = (\n",
    "        alt.Chart(gdf)\n",
    "        .mark_geoshape(fill=fill, stroke=stroke)\n",
    "        .project(\"mercator\")\n",
    "        .properties(width=500, height=500)\n",
    "    )\n",
    "    return chart\n"
   ]
  },
  {
   "cell_type": "code",
   "execution_count": null,
   "metadata": {},
   "outputs": [],
   "source": [
    "#| hide\n",
    "import nbdev\n",
    "\n",
    "nbdev.nbdev_export()\n"
   ]
  }
 ],
 "metadata": {
  "kernelspec": {
   "display_name": "census-data",
   "language": "python",
   "name": "python3"
  },
  "language_info": {
   "codemirror_mode": {
    "name": "ipython",
    "version": 3
   },
   "file_extension": ".py",
   "mimetype": "text/x-python",
   "name": "python",
   "nbconvert_exporter": "python",
   "pygments_lexer": "ipython3",
   "version": "3.9.12 (main, Apr  4 2022, 05:22:27) [MSC v.1916 64 bit (AMD64)]"
  },
  "vscode": {
   "interpreter": {
    "hash": "d0e995891e850d149046d385a65915c7aedf69222cc5550ee5fe828f204f0ddd"
   }
  }
 },
 "nbformat": 4,
 "nbformat_minor": 4
}
